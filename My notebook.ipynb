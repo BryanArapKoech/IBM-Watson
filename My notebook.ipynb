{
 "cells": [
  {
   "cell_type": "markdown",
   "id": "67fcf445",
   "metadata": {},
   "source": [
    "# My Jupyter Notebook on IBM Watson Studio"
   ]
  },
  {
   "cell_type": "markdown",
   "id": "eff6489b",
   "metadata": {},
   "source": [
    "**Brian Kibet**\n",
    "\n",
    "Data Scientist"
   ]
  },
  {
   "cell_type": "markdown",
   "id": "721b066b",
   "metadata": {},
   "source": [
    "*I am interested in data science because of its application in my field of Electrical engineering.*"
   ]
  },
  {
   "cell_type": "markdown",
   "id": "219d430c",
   "metadata": {},
   "source": [
    "### The code in cell 5 is supposed to print the string \"Hello world!\""
   ]
  },
  {
   "cell_type": "code",
   "execution_count": 2,
   "id": "041afd3c",
   "metadata": {},
   "outputs": [
    {
     "name": "stdout",
     "output_type": "stream",
     "text": [
      "Hello world!\n"
     ]
    }
   ],
   "source": [
    "print (\"Hello world!\")"
   ]
  },
  {
   "cell_type": "markdown",
   "id": "b88df3a3",
   "metadata": {},
   "source": [
    "\n",
    "\n",
    "# Heading 1\n",
    "## Heading 2\n",
    "### Heading 3\n",
    "\n",
    "\n",
    "\n",
    "IBM Watson is awesome.\n",
    "---\n",
    "Sure!\n",
    "\n",
    "1. numbered list,\n",
    "2. tables, \n",
    "3. hyperlinks,\n",
    "\n",
    "\n"
   ]
  },
  {
   "cell_type": "code",
   "execution_count": null,
   "id": "56e4b22e",
   "metadata": {},
   "outputs": [],
   "source": []
  }
 ],
 "metadata": {
  "kernelspec": {
   "display_name": "Python 3 (ipykernel)",
   "language": "python",
   "name": "python3"
  },
  "language_info": {
   "codemirror_mode": {
    "name": "ipython",
    "version": 3
   },
   "file_extension": ".py",
   "mimetype": "text/x-python",
   "name": "python",
   "nbconvert_exporter": "python",
   "pygments_lexer": "ipython3",
   "version": "3.9.7"
  }
 },
 "nbformat": 4,
 "nbformat_minor": 5
}
